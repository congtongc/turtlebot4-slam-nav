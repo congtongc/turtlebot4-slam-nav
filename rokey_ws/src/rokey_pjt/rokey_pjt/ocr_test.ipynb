{
 "cells": [
  {
   "cell_type": "code",
   "execution_count": 7,
   "id": "a3431e12",
   "metadata": {},
   "outputs": [
    {
     "name": "stdout",
     "output_type": "stream",
     "text": [
      "이미지 해상도:\n",
      "  가로 (너비): 621 픽셀\n",
      "  세로 (높이): 171 픽셀\n",
      "  채널 수: 3\n"
     ]
    }
   ],
   "source": [
    "import cv2\n",
    "\n",
    "img_path = '/home/rokey/Downloads/test2.jpg'\n",
    "img = cv2.imread(img_path)\n",
    "\n",
    "if img is None:\n",
    "    print(f\"오류: '{img_path}' 경로에서 이미지를 로드할 수 없습니다.\")\n",
    "else:\n",
    "    height, width, channels = img.shape\n",
    "    print(f\"이미지 해상도:\")\n",
    "    print(f\"  가로 (너비): {width} 픽셀\")\n",
    "    print(f\"  세로 (높이): {height} 픽셀\")\n",
    "    print(f\"  채널 수: {channels}\") # 컬러 이미지의 경우 일반적으로 3 (BGR), 흑백은 1"
   ]
  },
  {
   "cell_type": "code",
   "execution_count": 15,
   "id": "8189cc05",
   "metadata": {},
   "outputs": [
    {
     "name": "stderr",
     "output_type": "stream",
     "text": [
      "Using CPU. Note: This module is much faster with a GPU.\n"
     ]
    },
    {
     "name": "stdout",
     "output_type": "stream",
     "text": [
      "[CPU][1] 결과: ['1237 4568'] | 시간: 0.199초\n",
      "[CPU][2] 결과: ['1237 4568'] | 시간: 0.197초\n",
      "[CPU][3] 결과: ['1237 4568'] | 시간: 0.202초\n",
      "[CPU][4] 결과: ['1237 4568'] | 시간: 0.199초\n",
      "[CPU][5] 결과: ['1237 4568'] | 시간: 0.199초\n",
      "[CPU][6] 결과: ['1237 4568'] | 시간: 0.204초\n",
      "[CPU][7] 결과: ['1237 4568'] | 시간: 0.199초\n",
      "[CPU][8] 결과: ['1237 4568'] | 시간: 0.197초\n",
      "[CPU][9] 결과: ['1237 4568'] | 시간: 0.199초\n",
      "[CPU][10] 결과: ['1237 4568'] | 시간: 0.200초\n",
      "CPU 평균 시간: 0.200초\n"
     ]
    }
   ],
   "source": [
    "import easyocr\n",
    "import cv2\n",
    "import time\n",
    "\n",
    "# EasyOCR 리더 (CPU)\n",
    "reader_cpu = easyocr.Reader(['ko'], gpu=False)\n",
    "\n",
    "# 이미지 로드 & 전처리\n",
    "img_path = '/home/rokey/Downloads/test2.jpg'\n",
    "img = cv2.imread(img_path)\n",
    "gray = cv2.cvtColor(img, cv2.COLOR_BGR2GRAY)\n",
    "_, binary = cv2.threshold(gray, 0, 255, cv2.THRESH_BINARY + cv2.THRESH_OTSU)\n",
    "\n",
    "cpu_times = []\n",
    "\n",
    "for i in range(10):\n",
    "    start = time.time()\n",
    "    result = reader_cpu.readtext(binary, detail=0)\n",
    "    elapsed = time.time() - start\n",
    "    cpu_times.append(elapsed)\n",
    "    print(f\"[CPU][{i+1}] 결과: {result} | 시간: {elapsed:.3f}초\")\n",
    "\n",
    "print(f\"CPU 평균 시간: {sum(cpu_times)/len(cpu_times):.3f}초\")\n"
   ]
  },
  {
   "cell_type": "code",
   "execution_count": 16,
   "id": "dd7ca727",
   "metadata": {},
   "outputs": [
    {
     "name": "stdout",
     "output_type": "stream",
     "text": [
      "[GPU][1] 결과: ['123가 4568'] | 시간: 0.084초\n",
      "[GPU][2] 결과: ['123가 4568'] | 시간: 0.087초\n",
      "[GPU][3] 결과: ['123가 4568'] | 시간: 0.085초\n",
      "[GPU][4] 결과: ['123가 4568'] | 시간: 0.084초\n",
      "[GPU][5] 결과: ['123가 4568'] | 시간: 0.086초\n",
      "[GPU][6] 결과: ['123가 4568'] | 시간: 0.086초\n",
      "[GPU][7] 결과: ['123가 4568'] | 시간: 0.085초\n",
      "[GPU][8] 결과: ['123가 4568'] | 시간: 0.085초\n",
      "[GPU][9] 결과: ['123가 4568'] | 시간: 0.085초\n",
      "[GPU][10] 결과: ['123가 4568'] | 시간: 0.086초\n",
      "GPU 평균 시간: 0.085초\n"
     ]
    }
   ],
   "source": [
    "import easyocr\n",
    "import time\n",
    "\n",
    "# EasyOCR 리더 (GPU)\n",
    "reader_gpu = easyocr.Reader(['ko'], gpu=True)\n",
    "\n",
    "gpu_times = []\n",
    "\n",
    "for i in range(10):\n",
    "    start = time.time()\n",
    "    result = reader_gpu.readtext(binary, detail=0)\n",
    "    elapsed = time.time() - start\n",
    "    gpu_times.append(elapsed)\n",
    "    print(f\"[GPU][{i+1}] 결과: {result} | 시간: {elapsed:.3f}초\")\n",
    "\n",
    "print(f\"GPU 평균 시간: {sum(gpu_times)/len(gpu_times):.3f}초\")\n"
   ]
  },
  {
   "cell_type": "code",
   "execution_count": 17,
   "id": "d6a7bb11",
   "metadata": {},
   "outputs": [
    {
     "name": "stderr",
     "output_type": "stream",
     "text": [
      "Using CPU. Note: This module is much faster with a GPU.\n"
     ]
    },
    {
     "name": "stdout",
     "output_type": "stream",
     "text": [
      "[CPU][1] 결과: ['움@주', '123가 4568'] | 시간: 0.228초\n",
      "[CPU][2] 결과: ['움@주', '123가 4568'] | 시간: 0.212초\n",
      "[CPU][3] 결과: ['움@주', '123가 4568'] | 시간: 0.212초\n",
      "[CPU][4] 결과: ['움@주', '123가 4568'] | 시간: 0.213초\n",
      "[CPU][5] 결과: ['움@주', '123가 4568'] | 시간: 0.217초\n",
      "[CPU][6] 결과: ['움@주', '123가 4568'] | 시간: 0.211초\n",
      "[CPU][7] 결과: ['움@주', '123가 4568'] | 시간: 0.235초\n",
      "[CPU][8] 결과: ['움@주', '123가 4568'] | 시간: 0.223초\n",
      "[CPU][9] 결과: ['움@주', '123가 4568'] | 시간: 0.210초\n",
      "[CPU][10] 결과: ['움@주', '123가 4568'] | 시간: 0.213초\n",
      "CPU 평균 시간: 0.218초\n"
     ]
    }
   ],
   "source": [
    "import easyocr\n",
    "import cv2\n",
    "import time\n",
    "\n",
    "# EasyOCR 리더 (CPU)\n",
    "reader_cpu = easyocr.Reader(['ko'], gpu=False)\n",
    "\n",
    "# 이미지 로드\n",
    "img_path = '/home/rokey/Downloads/test2.jpg'\n",
    "img = cv2.imread(img_path)\n",
    "\n",
    "if img is None:\n",
    "    print(f\"오류: '{img_path}' 경로에서 이미지를 로드할 수 없습니다. 경로를 확인하거나 파일이 손상되지 않았는지 확인하십시오.\")\n",
    "else:\n",
    "    # EasyOCR은 기본적으로 BGR (OpenCV 기본) 또는 RGB 이미지 형식을 처리할 수 있습니다.\n",
    "    # cv2.imread로 불러온 이미지는 BGR 채널 순서이지만, EasyOCR이 내부적으로 처리합니다.\n",
    "    \n",
    "    cpu_times = []\n",
    "\n",
    "    for i in range(10):\n",
    "        start = time.time()\n",
    "        # 원본 컬러 이미지 'img'를 직접 EasyOCR에 전달합니다.\n",
    "        result = reader_cpu.readtext(img, detail=0)\n",
    "        elapsed = time.time() - start\n",
    "        cpu_times.append(elapsed)\n",
    "        print(f\"[CPU][{i+1}] 결과: {result} | 시간: {elapsed:.3f}초\")\n",
    "\n",
    "    print(f\"CPU 평균 시간: {sum(cpu_times)/len(cpu_times):.3f}초\")"
   ]
  },
  {
   "cell_type": "code",
   "execution_count": 18,
   "id": "013f03b6",
   "metadata": {},
   "outputs": [
    {
     "name": "stdout",
     "output_type": "stream",
     "text": [
      "EasyOCR이 GPU를 사용하여 초기화되었습니다.\n",
      "[GPU][1] 결과: ['움@랜', '123가 4568'] | 시간: 0.096초\n",
      "[GPU][2] 결과: ['움@랜', '123가 4568'] | 시간: 0.096초\n",
      "[GPU][3] 결과: ['움@랜', '123가 4568'] | 시간: 0.096초\n",
      "[GPU][4] 결과: ['움@랜', '123가 4568'] | 시간: 0.096초\n",
      "[GPU][5] 결과: ['움@랜', '123가 4568'] | 시간: 0.096초\n",
      "[GPU][6] 결과: ['움@랜', '123가 4568'] | 시간: 0.097초\n",
      "[GPU][7] 결과: ['움@랜', '123가 4568'] | 시간: 0.096초\n",
      "[GPU][8] 결과: ['움@랜', '123가 4568'] | 시간: 0.097초\n",
      "[GPU][9] 결과: ['움@랜', '123가 4568'] | 시간: 0.100초\n",
      "[GPU][10] 결과: ['움@랜', '123가 4568'] | 시간: 0.101초\n",
      "GPU 평균 시간: 0.097초\n"
     ]
    }
   ],
   "source": [
    "import easyocr\n",
    "import cv2\n",
    "import time\n",
    "\n",
    "# EasyOCR 리더 (GPU)\n",
    "# GPU를 사용하려면 'gpu=True'로 설정합니다.\n",
    "# CUDA 및 cuDNN이 시스템에 설치되어 있어야 합니다.\n",
    "try:\n",
    "    reader_gpu = easyocr.Reader(['ko'], gpu=True)\n",
    "    print(\"EasyOCR이 GPU를 사용하여 초기화되었습니다.\")\n",
    "except Exception as e:\n",
    "    print(f\"오류: GPU 초기화에 실패했습니다. CUDA 및 cuDNN 설치를 확인하세요. {e}\")\n",
    "    # GPU 초기화 실패 시, CPU로 대체하거나 스크립트를 종료할 수 있습니다.\n",
    "    # 여기서는 스크립트를 종료하도록 합니다.\n",
    "    exit()\n",
    "\n",
    "# 이미지 로드\n",
    "img_path = '/home/rokey/Downloads/test2.jpg'\n",
    "img = cv2.imread(img_path)\n",
    "\n",
    "if img is None:\n",
    "    print(f\"오류: '{img_path}' 경로에서 이미지를 로드할 수 없습니다. 경로를 확인하거나 파일이 손상되지 않았는지 확인하십시오.\")\n",
    "else:\n",
    "    # 이진화나 회색조 변환 없이 원본 RGB/BGR 이미지를 직접 사용합니다.\n",
    "    # OpenCV는 기본적으로 BGR 형식으로 로드하지만, EasyOCR이 이를 처리합니다.\n",
    "    \n",
    "    gpu_times = []\n",
    "\n",
    "    for i in range(10):\n",
    "        start = time.time()\n",
    "        # 원본 컬러 이미지 'img'를 EasyOCR에 전달합니다.\n",
    "        result = reader_gpu.readtext(img, detail=0)\n",
    "        elapsed = time.time() - start\n",
    "        gpu_times.append(elapsed)\n",
    "        print(f\"[GPU][{i+1}] 결과: {result} | 시간: {elapsed:.3f}초\")\n",
    "\n",
    "    print(f\"GPU 평균 시간: {sum(gpu_times)/len(gpu_times):.3f}초\")"
   ]
  }
 ],
 "metadata": {
  "kernelspec": {
   "display_name": "Python 3",
   "language": "python",
   "name": "python3"
  },
  "language_info": {
   "codemirror_mode": {
    "name": "ipython",
    "version": 3
   },
   "file_extension": ".py",
   "mimetype": "text/x-python",
   "name": "python",
   "nbconvert_exporter": "python",
   "pygments_lexer": "ipython3",
   "version": "3.10.12"
  }
 },
 "nbformat": 4,
 "nbformat_minor": 5
}
