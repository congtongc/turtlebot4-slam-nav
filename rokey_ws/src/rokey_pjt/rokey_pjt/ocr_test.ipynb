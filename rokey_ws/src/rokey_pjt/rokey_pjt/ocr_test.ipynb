{
 "cells": [
  {
   "cell_type": "code",
   "execution_count": null,
   "id": "8189cc05",
   "metadata": {},
   "outputs": [],
   "source": [
    "import easyocr\n",
    "import cv2\n",
    "import time\n",
    "\n",
    "# EasyOCR 리더 (CPU)\n",
    "reader_cpu = easyocr.Reader(['ko'], gpu=False)\n",
    "\n",
    "# 이미지 로드 & 전처리\n",
    "img_path = 'test_plate.jpg'\n",
    "img = cv2.imread(img_path)\n",
    "gray = cv2.cvtColor(img, cv2.COLOR_BGR2GRAY)\n",
    "_, binary = cv2.threshold(gray, 0, 255, cv2.THRESH_BINARY + cv2.THRESH_OTSU)\n",
    "\n",
    "cpu_times = []\n",
    "\n",
    "for i in range(10):\n",
    "    start = time.time()\n",
    "    result = reader_cpu.readtext(binary, detail=0)\n",
    "    elapsed = time.time() - start\n",
    "    cpu_times.append(elapsed)\n",
    "    print(f\"[CPU][{i+1}] 결과: {result} | 시간: {elapsed:.3f}초\")\n",
    "\n",
    "print(f\"CPU 평균 시간: {sum(cpu_times)/len(cpu_times):.3f}초\")\n"
   ]
  },
  {
   "cell_type": "code",
   "execution_count": null,
   "id": "dd7ca727",
   "metadata": {},
   "outputs": [],
   "source": [
    "import easyocr\n",
    "import time\n",
    "\n",
    "# EasyOCR 리더 (GPU)\n",
    "reader_gpu = easyocr.Reader(['ko'], gpu=True)\n",
    "\n",
    "gpu_times = []\n",
    "\n",
    "for i in range(10):\n",
    "    start = time.time()\n",
    "    result = reader_gpu.readtext(binary, detail=0)\n",
    "    elapsed = time.time() - start\n",
    "    gpu_times.append(elapsed)\n",
    "    print(f\"[GPU][{i+1}] 결과: {result} | 시간: {elapsed:.3f}초\")\n",
    "\n",
    "print(f\"GPU 평균 시간: {sum(gpu_times)/len(gpu_times):.3f}초\")\n"
   ]
  }
 ],
 "metadata": {
  "kernelspec": {
   "display_name": "Python 3",
   "language": "python",
   "name": "python3"
  },
  "language_info": {
   "name": "python",
   "version": "3.10.12"
  }
 },
 "nbformat": 4,
 "nbformat_minor": 5
}
