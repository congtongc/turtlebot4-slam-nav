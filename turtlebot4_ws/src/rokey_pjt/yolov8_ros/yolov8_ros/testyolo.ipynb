{
 "cells": [
  {
   "cell_type": "code",
   "execution_count": null,
   "id": "d3572d44",
   "metadata": {},
   "outputs": [],
   "source": []
  },
  {
   "cell_type": "code",
   "execution_count": null,
   "id": "a25bb3c7",
   "metadata": {},
   "outputs": [
    {
     "name": "stdout",
     "output_type": "stream",
     "text": [
      "\n",
      "0: 640x640 1 rokaa - v1 2025-05-23 2-39pm, 170.6ms\n",
      "Speed: 3.0ms preprocess, 170.6ms inference, 1.5ms postprocess per image at shape (1, 3, 640, 640)\n",
      "클래스 목록: {0: 'rokaa - v1 2025-05-23 2-39pm'}\n",
      "[rokaa - v1 2025-05-23 2-39pm] 0.26 → x1=209, y1=108, x2=398, y2=640\n"
     ]
    },
    {
     "name": "stderr",
     "output_type": "stream",
     "text": [
      "qt.qpa.plugin: Could not find the Qt platform plugin \"wayland\" in \"/home/kiwi/.local/lib/python3.10/site-packages/cv2/qt/plugins\"\n"
     ]
    }
   ],
   "source": [
    "from ultralytics import YOLO\n",
    "import cv2\n",
    "\n",
    "# 모델 로드\n",
    "model = YOLO('/home/kiwi/rokey_ws/src/yolov8_ros/yolov8_ros/detect_mu1.pt')\n",
    "\n",
    "# 이미지 로드\n",
    "img_path = '/home/kiwi/rokey_ws/src/yolov8_ros/yolov8_ros/test_img/f1.jpg'\n",
    "image = cv2.imread(img_path)\n",
    "\n",
    "# 예측 수행\n",
    "results = model(image)[0]\n",
    "\n",
    "# 클래스 이름 확인\n",
    "names = model.names\n",
    "print(f\"클래스 목록: {names}\")\n",
    "\n",
    "# 결과 출력\n",
    "for box in results.boxes:\n",
    "    cls_id = int(box.cls[0])\n",
    "    conf = float(box.conf[0])\n",
    "    x1, y1, x2, y2 = map(int, box.xyxy[0])\n",
    "    label = names[cls_id] if names else str(cls_id)\n",
    "    print(f\"[{label}] {conf:.2f} → x1={x1}, y1={y1}, x2={x2}, y2={y2}\")\n",
    "\n",
    "    # 시각화\n",
    "    cv2.rectangle(image, (x1, y1), (x2, y2), (0, 255, 0), 2)\n",
    "    cv2.putText(image, f'{label} {conf:.2f}', (x1, y1 - 10),\n",
    "                cv2.FONT_HERSHEY_SIMPLEX, 0.6, (0, 255, 0), 2)\n",
    "\n",
    "# 결과 이미지 창으로 표시\n",
    "cv2.imshow(\"YOLOv8 Detection\", image)\n",
    "cv2.waitKey(0)\n",
    "cv2.destroyAllWindows()\n"
   ]
  },
  {
   "cell_type": "code",
   "execution_count": null,
   "id": "6df01218",
   "metadata": {},
   "outputs": [
    {
     "name": "stdout",
     "output_type": "stream",
     "text": [
      "\n",
      "0: 640x640 1 rokaa - v1 2025-05-23 2-39pm, 194.0ms\n",
      "Speed: 6.8ms preprocess, 194.0ms inference, 8.0ms postprocess per image at shape (1, 3, 640, 640)\n",
      "YOLOv8 추론 시간: 1.0882초\n",
      "클래스 목록: {0: 'rokaa - v1 2025-05-23 2-39pm'}\n",
      "[rokaa - v1 2025-05-23 2-39pm] 0.26 → x1=209, y1=108, x2=398, y2=640\n"
     ]
    },
    {
     "name": "stderr",
     "output_type": "stream",
     "text": [
      "qt.qpa.plugin: Could not find the Qt platform plugin \"wayland\" in \"/home/kiwi/.local/lib/python3.10/site-packages/cv2/qt/plugins\"\n"
     ]
    }
   ],
   "source": [
    "from ultralytics import YOLO\n",
    "import cv2\n",
    "import time  # 시간 측정용 모듈\n",
    "\n",
    "# 모델 로드\n",
    "model = YOLO('/home/kiwi/rokey_ws/src/yolov8_ros/yolov8_ros/detect_mu1.pt')\n",
    "\n",
    "# 이미지 로드\n",
    "img_path = '/home/kiwi/rokey_ws/src/yolov8_ros/yolov8_ros/test_img/f1.jpg'\n",
    "image = cv2.imread(img_path)\n",
    "\n",
    "# 추론 시간 측정 시작\n",
    "start = time.time()\n",
    "results = model(image)[0]\n",
    "end = time.time()\n",
    "elapsed = end - start\n",
    "print(f\"YOLOv8 추론 시간: {elapsed:.4f}초\")\n",
    "\n",
    "# 클래스 이름 확인\n",
    "names = model.names\n",
    "print(f\"클래스 목록: {names}\")\n",
    "\n",
    "# 결과 출력 및 시각화\n",
    "for box in results.boxes:\n",
    "    cls_id = int(box.cls[0])\n",
    "    conf = float(box.conf[0])\n",
    "    x1, y1, x2, y2 = map(int, box.xyxy[0])\n",
    "    label = names[cls_id] if names else str(cls_id)\n",
    "    print(f\"[{label}] {conf:.2f} → x1={x1}, y1={y1}, x2={x2}, y2={y2}\")\n",
    "\n",
    "    cv2.rectangle(image, (x1, y1), (x2, y2), (0, 255, 0), 2)\n",
    "    cv2.putText(image, f'{label} {conf:.2f}', (x1, y1 - 10),\n",
    "                cv2.FONT_HERSHEY_SIMPLEX, 0.6, (0, 255, 0), 2)\n",
    "\n",
    "# 결과 이미지 표시\n",
    "cv2.imshow(\"YOLOv8 Detection\", image)\n",
    "cv2.waitKey(0)\n",
    "cv2.destroyAllWindows()"
   ]
  }
 ],
 "metadata": {
  "kernelspec": {
   "display_name": "Python 3",
   "language": "python",
   "name": "python3"
  },
  "language_info": {
   "codemirror_mode": {
    "name": "ipython",
    "version": 3
   },
   "file_extension": ".py",
   "mimetype": "text/x-python",
   "name": "python",
   "nbconvert_exporter": "python",
   "pygments_lexer": "ipython3",
   "version": "3.10.12"
  }
 },
 "nbformat": 4,
 "nbformat_minor": 5
}
